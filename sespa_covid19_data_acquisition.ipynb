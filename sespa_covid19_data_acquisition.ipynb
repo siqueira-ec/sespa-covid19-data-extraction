{
 "cells": [
  {
   "cell_type": "markdown",
   "metadata": {},
   "source": [
    "# Contexto:\n",
    "### O site [Monitoramento COVID-19](https://www.covid-19.pa.gov.br/) administrado pela **Secretaria de Saúde Pública do Pará (SESPA)** disponibiliza uma série de informações acerca do status da epidemia no estado do Pará.\n",
    "\n",
    "# Problema:\n",
    "### Essas informações estão exibidas no site, então para utilizá-las haveria a necessidade de um parse das informações através de um webcrawler.\n",
    "\n",
    "# Solução\n",
    "### Achar as endpoints responsáveis pelo retorno das informações e abstrair os requisitos necessários para o acesso ás mesmas.\n",
    "\n",
    "# 1. Bibliotecas Utilizadas\n",
    "### 1.1 Instalação\n",
    "```bash\n",
    "pip install requests\n",
    "pip install json\n",
    "pip install base64\n",
    "pip install pandas\n",
    "pip install sqlalchemy\n",
    "```\n",
    "### 1.2 Importação"
   ]
  },
  {
   "cell_type": "code",
   "execution_count": 6,
   "metadata": {},
   "outputs": [],
   "source": [
    "from base64 import b64encode\n",
    "import json\n",
    "import pandas as pd\n",
    "import requests as rq"
   ]
  },
  {
   "cell_type": "markdown",
   "metadata": {},
   "source": [
    "# 2. Definindo dados necessários ao acesso"
   ]
  },
  {
   "cell_type": "code",
   "execution_count": 7,
   "metadata": {},
   "outputs": [],
   "source": [
    "# default guest user data\n",
    "username = '00000000000' # default username for guest user\n",
    "password = 'bc7786ggsf66a715fd847a63a2e12f2c20' # default pwd for guest user\n",
    "\n",
    "# verify secure request?\n",
    "verify = True"
   ]
  },
  {
   "cell_type": "markdown",
   "metadata": {},
   "source": [
    "# 3. Definindo as rotas de acesso da API"
   ]
  },
  {
   "cell_type": "code",
   "execution_count": 8,
   "metadata": {},
   "outputs": [],
   "source": [
    "# main routes\n",
    "rota_raiz = 'https://www.covid-19.pa.gov.br/monitoramento-corona-service/'\n",
    "rota_testes = 'testecovid/'\n",
    "rota_status = 'statuscorona/'\n",
    "rota_leitos = 'leitos-novos/'\n",
    "\n",
    "# side routes\n",
    "rota_serie_historica = rota_status + 'serie-historica-confirmados-obitos/'\n",
    "rota_positivos_faixa_etaria = rota_status + 'casos-positivos-faixa-etaria/'\n",
    "rota_confirmados_obitos_municipios = rota_status + 'casos-confirmados-obitos-por-municipio/'\n",
    "rota_percentual_por_sexo = rota_status + 'percentual-por-sexo/'\n",
    "rota_resumido_recentes = rota_status + 'maisrecente/'\n",
    "rota_testes_recentes = rota_testes + 'maisrecente/'"
   ]
  },
  {
   "cell_type": "markdown",
   "metadata": {},
   "source": [
    "# 4. Definindo o método para obter as credenciais de autenticação"
   ]
  },
  {
   "cell_type": "code",
   "execution_count": 9,
   "metadata": {},
   "outputs": [],
   "source": [
    "def getAuthBearer(username, password):\n",
    "    \"\"\"\n",
    "    Get authentication bearer to pass on further requests\n",
    "    Required:\n",
    "        username : username\n",
    "        password: password\n",
    "    Returns\n",
    "        Authentication bearer as str\n",
    "    \"\"\"\n",
    "    # login string\n",
    "    string = username + ':' + password\n",
    "    bytes_string = string.encode(\"utf-8\")\n",
    "    encoded_credentials = b64encode(bytes_string).decode(\"utf-8\")\n",
    "    \n",
    "    # get auth bearer\n",
    "    bearer = rq.post(\n",
    "        url = rota_raiz + 'login/public',\n",
    "        verify = verify,\n",
    "        headers = {\n",
    "            'Authorization': 'Basic ' + encoded_credentials\n",
    "        }\n",
    "    ).headers['Authorization']\n",
    "        \n",
    "    # return bearer\n",
    "    return bearer"
   ]
  },
  {
   "cell_type": "markdown",
   "metadata": {},
   "source": [
    "# 5. Definindo o método para obter os dados dos endpoints"
   ]
  },
  {
   "cell_type": "code",
   "execution_count": 10,
   "metadata": {},
   "outputs": [],
   "source": [
    "def generateJsonData(route):\n",
    "    \"\"\"\n",
    "    Request data from API routes\n",
    "    Required:\n",
    "        route: route to get data\n",
    "    Returns\n",
    "        Normalized data as json dataframe\n",
    "    \"\"\"\n",
    "    # get data\n",
    "    data = rq.get(\n",
    "        url = rota_raiz + route,\n",
    "        headers = {\n",
    "            'Authorization': getAuthBearer(username, password)\n",
    "        },\n",
    "        verify = verify\n",
    "    ).text\n",
    "    \n",
    "    # parse data as json\n",
    "    parsed_data = json.loads(data)\n",
    "    \n",
    "    # normalize json data and save as dataframe\n",
    "    normalized_data = pd.json_normalize(parsed_data)\n",
    "    \n",
    "    # return data as json parsed dataframe\n",
    "    return normalized_data"
   ]
  },
  {
   "cell_type": "markdown",
   "metadata": {},
   "source": [
    "# 6. Populando variáveis"
   ]
  },
  {
   "cell_type": "code",
   "execution_count": 12,
   "metadata": {},
   "outputs": [
    {
     "name": "stderr",
     "output_type": "stream",
     "text": [
      "/usr/local/lib/python3.7/site-packages/urllib3/connectionpool.py:847: InsecureRequestWarning: Unverified HTTPS request is being made. Adding certificate verification is strongly advised. See: https://urllib3.readthedocs.io/en/latest/advanced-usage.html#ssl-warnings\n",
      "  InsecureRequestWarning)\n",
      "/usr/local/lib/python3.7/site-packages/urllib3/connectionpool.py:847: InsecureRequestWarning: Unverified HTTPS request is being made. Adding certificate verification is strongly advised. See: https://urllib3.readthedocs.io/en/latest/advanced-usage.html#ssl-warnings\n",
      "  InsecureRequestWarning)\n",
      "/usr/local/lib/python3.7/site-packages/urllib3/connectionpool.py:847: InsecureRequestWarning: Unverified HTTPS request is being made. Adding certificate verification is strongly advised. See: https://urllib3.readthedocs.io/en/latest/advanced-usage.html#ssl-warnings\n",
      "  InsecureRequestWarning)\n",
      "/usr/local/lib/python3.7/site-packages/urllib3/connectionpool.py:847: InsecureRequestWarning: Unverified HTTPS request is being made. Adding certificate verification is strongly advised. See: https://urllib3.readthedocs.io/en/latest/advanced-usage.html#ssl-warnings\n",
      "  InsecureRequestWarning)\n",
      "/usr/local/lib/python3.7/site-packages/urllib3/connectionpool.py:847: InsecureRequestWarning: Unverified HTTPS request is being made. Adding certificate verification is strongly advised. See: https://urllib3.readthedocs.io/en/latest/advanced-usage.html#ssl-warnings\n",
      "  InsecureRequestWarning)\n",
      "/usr/local/lib/python3.7/site-packages/urllib3/connectionpool.py:847: InsecureRequestWarning: Unverified HTTPS request is being made. Adding certificate verification is strongly advised. See: https://urllib3.readthedocs.io/en/latest/advanced-usage.html#ssl-warnings\n",
      "  InsecureRequestWarning)\n",
      "/usr/local/lib/python3.7/site-packages/urllib3/connectionpool.py:847: InsecureRequestWarning: Unverified HTTPS request is being made. Adding certificate verification is strongly advised. See: https://urllib3.readthedocs.io/en/latest/advanced-usage.html#ssl-warnings\n",
      "  InsecureRequestWarning)\n",
      "/usr/local/lib/python3.7/site-packages/urllib3/connectionpool.py:847: InsecureRequestWarning: Unverified HTTPS request is being made. Adding certificate verification is strongly advised. See: https://urllib3.readthedocs.io/en/latest/advanced-usage.html#ssl-warnings\n",
      "  InsecureRequestWarning)\n",
      "/usr/local/lib/python3.7/site-packages/urllib3/connectionpool.py:847: InsecureRequestWarning: Unverified HTTPS request is being made. Adding certificate verification is strongly advised. See: https://urllib3.readthedocs.io/en/latest/advanced-usage.html#ssl-warnings\n",
      "  InsecureRequestWarning)\n",
      "/usr/local/lib/python3.7/site-packages/urllib3/connectionpool.py:847: InsecureRequestWarning: Unverified HTTPS request is being made. Adding certificate verification is strongly advised. See: https://urllib3.readthedocs.io/en/latest/advanced-usage.html#ssl-warnings\n",
      "  InsecureRequestWarning)\n",
      "/usr/local/lib/python3.7/site-packages/urllib3/connectionpool.py:847: InsecureRequestWarning: Unverified HTTPS request is being made. Adding certificate verification is strongly advised. See: https://urllib3.readthedocs.io/en/latest/advanced-usage.html#ssl-warnings\n",
      "  InsecureRequestWarning)\n",
      "/usr/local/lib/python3.7/site-packages/urllib3/connectionpool.py:847: InsecureRequestWarning: Unverified HTTPS request is being made. Adding certificate verification is strongly advised. See: https://urllib3.readthedocs.io/en/latest/advanced-usage.html#ssl-warnings\n",
      "  InsecureRequestWarning)\n",
      "/usr/local/lib/python3.7/site-packages/urllib3/connectionpool.py:847: InsecureRequestWarning: Unverified HTTPS request is being made. Adding certificate verification is strongly advised. See: https://urllib3.readthedocs.io/en/latest/advanced-usage.html#ssl-warnings\n",
      "  InsecureRequestWarning)\n",
      "/usr/local/lib/python3.7/site-packages/urllib3/connectionpool.py:847: InsecureRequestWarning: Unverified HTTPS request is being made. Adding certificate verification is strongly advised. See: https://urllib3.readthedocs.io/en/latest/advanced-usage.html#ssl-warnings\n",
      "  InsecureRequestWarning)\n",
      "/usr/local/lib/python3.7/site-packages/urllib3/connectionpool.py:847: InsecureRequestWarning: Unverified HTTPS request is being made. Adding certificate verification is strongly advised. See: https://urllib3.readthedocs.io/en/latest/advanced-usage.html#ssl-warnings\n",
      "  InsecureRequestWarning)\n",
      "/usr/local/lib/python3.7/site-packages/urllib3/connectionpool.py:847: InsecureRequestWarning: Unverified HTTPS request is being made. Adding certificate verification is strongly advised. See: https://urllib3.readthedocs.io/en/latest/advanced-usage.html#ssl-warnings\n",
      "  InsecureRequestWarning)\n"
     ]
    }
   ],
   "source": [
    "num_testes = generateJsonData(rota_testes_recentes)\n",
    "serie_historica = generateJsonData(rota_serie_historica)\n",
    "atualizacoes_serie_historica = generateJsonData(rota_status)\n",
    "positivos_faixa_etaria = generateJsonData(rota_positivos_faixa_etaria)\n",
    "confirmados_obitos_municipios = generateJsonData(rota_confirmados_obitos_municipios)\n",
    "percentual_por_sexo = generateJsonData(rota_percentual_por_sexo)\n",
    "resumido_recentes = generateJsonData(rota_resumido_recentes)\n",
    "leitos_novos = generateJsonData(rota_leitos)"
   ]
  },
  {
   "cell_type": "markdown",
   "metadata": {},
   "source": [
    "## O projeto ainda está em andamento.\n",
    "\n",
    "## A ser implementado:\n",
    "### - Exportar os dados diretamente para bancos de dados"
   ]
  }
 ],
 "metadata": {
  "kernelspec": {
   "display_name": "Python 3",
   "language": "python",
   "name": "python3"
  },
  "language_info": {
   "codemirror_mode": {
    "name": "ipython",
    "version": 3
   },
   "file_extension": ".py",
   "mimetype": "text/x-python",
   "name": "python",
   "nbconvert_exporter": "python",
   "pygments_lexer": "ipython3",
   "version": "3.7.7"
  }
 },
 "nbformat": 4,
 "nbformat_minor": 4
}
